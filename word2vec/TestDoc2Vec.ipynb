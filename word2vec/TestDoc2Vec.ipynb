{
 "cells": [
  {
   "cell_type": "code",
   "execution_count": 1,
   "metadata": {},
   "outputs": [
    {
     "name": "stderr",
     "output_type": "stream",
     "text": [
      "Using TensorFlow backend.\n",
      "2017-09-29 17:42:08,979 : INFO : Training completed, saving to  /media/diego/QData/techarticles/models/doc2vecmodel_2017-09-29T17:18:13.066937.model\n",
      "2017-09-29 17:42:08,980 : INFO : loading Doc2Vec object from /media/diego/QData/techarticles/models/doc2vecmodel_2017-09-29T17:18:13.066937.model\n",
      "2017-09-29 17:42:09,233 : INFO : loading wv recursively from /media/diego/QData/techarticles/models/doc2vecmodel_2017-09-29T17:18:13.066937.model.wv.* with mmap=None\n",
      "2017-09-29 17:42:09,234 : INFO : loading syn0 from /media/diego/QData/techarticles/models/doc2vecmodel_2017-09-29T17:18:13.066937.model.wv.syn0.npy with mmap=None\n",
      "2017-09-29 17:42:09,248 : INFO : setting ignored attribute syn0norm to None\n",
      "2017-09-29 17:42:09,249 : INFO : loading docvecs recursively from /media/diego/QData/techarticles/models/doc2vecmodel_2017-09-29T17:18:13.066937.model.docvecs.* with mmap=None\n",
      "2017-09-29 17:42:09,250 : INFO : loading syn1neg from /media/diego/QData/techarticles/models/doc2vecmodel_2017-09-29T17:18:13.066937.model.syn1neg.npy with mmap=None\n",
      "2017-09-29 17:42:09,263 : INFO : setting ignored attribute cum_table to None\n",
      "2017-09-29 17:42:09,264 : INFO : loaded /media/diego/QData/techarticles/models/doc2vecmodel_2017-09-29T17:18:13.066937.model\n"
     ]
    }
   ],
   "source": [
    "from os import listdir\n",
    "from os.path import isfile, join\n",
    "from gensim.models.doc2vec import TaggedDocument\n",
    "from datetime import datetime\n",
    "import json\n",
    "from gensim.models import Doc2Vec\n",
    "import os\n",
    "import logging\n",
    "\n",
    "import sys\n",
    "logging.basicConfig(format='%(asctime)s : %(levelname)s : %(message)s', level=logging.INFO)\n",
    "\n",
    "root_dir = '/media/diego/QData/techarticles/'\n",
    "corpus_dir = root_dir+'parsed_articles/'\n",
    "listname = root_dir +'lists/article_list_29_09_2017b.json'\n",
    "\n",
    "\n",
    "docLabels = []\n",
    "data = []\n",
    "with open(listname, 'r') as lst_f:\n",
    "with open(listname, 'r') as lst_f:\n",
    "    article_map = json.load(lst_f)\n",
    "    for url in sorted(article_map):\n",
    "        record = article_map[url]\n",
    "        filename = corpus_dir+ '/' + record[\"filename\"]\n",
    "        if (os.path.isfile(filename)):\n",
    "\n",
    "            with open(filename, 'r') as f:\n",
    "                text = f.read()\n",
    "                if (len(text) > 400):\n",
    "                    data.append(text)\n",
    "                    docLabels.append(url)\n",
    "\n",
    "\n",
    "model_filename = '/media/diego/QData/techarticles/models/article_authors_root'\n",
    "logging.info(\"Training completed, saving to  \" + model_filename)\n",
    "model = Doc2Vec.load(model_filename)\n",
    "#for docvec in model.docvecs:"
   ]
  },
  {
   "cell_type": "code",
   "execution_count": 6,
   "metadata": {},
   "outputs": [
    {
     "data": {
      "text/plain": [
       "[('https://www.theverge.com/2017/4/10/15251260/show-notes-get-ready-for-car-news',\n",
       "  0.5328376293182373),\n",
       " ('https://www.theverge.com/2017/3/9/14874878/show-notes-google-vs-microsoft-vs-slack',\n",
       "  0.5274401307106018),\n",
       " ('https://www.theverge.com/2017/2/24/14732532/show-notes-wyd-google',\n",
       "  0.5241379737854004),\n",
       " ('https://www.theverge.com/2017/2/28/14765918/show-notes-amazon-web-services-appreciation-day',\n",
       "  0.5166706442832947),\n",
       " ('https://techcrunch.com/2017/06/26/lets-meet-in-warsaw/',\n",
       "  0.5088624954223633),\n",
       " ('https://techcrunch.com/2017/06/19/see-you-in-warsaw-on-july-4/',\n",
       "  0.50351482629776),\n",
       " ('https://techcrunch.com/2017/05/14/watch-the-disrupt-ny-hackathon-demos-live-right-here/',\n",
       "  0.49423104524612427),\n",
       " ('https://www.theverge.com/2017/2/23/14716418/show-notes-the-telecom-industry-isnt-the-tech-industry-dammit',\n",
       "  0.4921422600746155),\n",
       " ('https://www.theverge.com/2017/7/17/15981842/samsung-pay-paypal-mobile-payment',\n",
       "  0.4896915555000305),\n",
       " ('https://www.theverge.com/2017/4/4/15181304/show-notes-this-is-a-salacious-headline-about-apple-designed-to-get-clicks',\n",
       "  0.4879182279109955)]"
      ]
     },
     "execution_count": 6,
     "metadata": {},
     "output_type": "execute_result"
    }
   ],
   "source": [
    "s =\n",
    "\"\"\"\n",
    "Walmart is placing a big bet on React Native. With Electrode, the company’s Walmart Labs division open sourced the React-based framework that powers Walmart.com’s frontend and today the same group is also launching Electrode Native, its tool for bringing React Native to existing native apps on iOS and Android.\n",
    "The basics idea here is that Electrode Native allows large companies like Walmart to take their existing apps and slowly migrate parts of their code to React Native, Facebook’s open source framework for building native apps in JavaScript. The tool aims to make the integration between React Native and other native apps as straightforward as possible. React Native simply becomes a third-party library that’s used in the native app and the React Native code then lives in what Walmart Labs calls an “Electrode Native MiniApp.”\n",
    "Typically, developers who want to move their apps to React Native would have to either rewrite their app from the ground, build a quick and dirty integration that’ll cost them later, or build a new platform and tooling for integrating React Native into their apps. Walmart went with the last option.\n",
    "\n",
    "\"\"\"\n",
    "\n",
    "model.docvecs.most_similar(positive=[model.infer_vector(s.split())])"
   ]
  },
  {
   "cell_type": "code",
   "execution_count": 7,
   "metadata": {
    "collapsed": true
   },
   "outputs": [],
   "source": [
    "from nltk.tokenize import sent_tokenize, word_tokenize\n",
    "from nltk.corpus import stopwords\n",
    "import string\n",
    "\n",
    "def tok(doc):\n",
    "    stop = stopwords.words('english') + list(string.punctuation)\n",
    "    wtok = [i for i in word_tokenize(doc.lower()) if i not in stop]\n",
    "    return wtok"
   ]
  },
  {
   "cell_type": "code",
   "execution_count": 9,
   "metadata": {
    "collapsed": true
   },
   "outputs": [],
   "source": [
    "s = \\\n",
    "\"\"\"\n",
    "Walmart is placing a big bet on React Native. With Electrode, the company’s Walmart Labs division open sourced the React-based framework that powers Walmart.com’s frontend and today the same group is also launching Electrode Native, its tool for bringing React Native to existing native apps on iOS and Android.\n",
    "The basics idea here is that Electrode Native allows large companies like Walmart to take their existing apps and slowly migrate parts of their code to React Native, Facebook’s open source framework for building native apps in JavaScript. The tool aims to make the integration between React Native and other native apps as straightforward as possible. React Native simply becomes a third-party library that’s used in the native app and the React Native code then lives in what Walmart Labs calls an “Electrode Native MiniApp.”\n",
    "Typically, developers who want to move their apps to React Native would have to either rewrite their app from the ground, build a quick and dirty integration that’ll cost them later, or build a new platform and tooling for integrating React Native into their apps. Walmart went with the last option.\n",
    "\"\"\""
   ]
  },
  {
   "cell_type": "code",
   "execution_count": 10,
   "metadata": {},
   "outputs": [
    {
     "data": {
      "text/plain": [
       "'\\nWalmart is placing a big bet on React Native. With Electrode, the company’s Walmart Labs division open sourced the React-based framework that powers Walmart.com’s frontend and today the same group is also launching Electrode Native, its tool for bringing React Native to existing native apps on iOS and Android.\\nThe basics idea here is that Electrode Native allows large companies like Walmart to take their existing apps and slowly migrate parts of their code to React Native, Facebook’s open source framework for building native apps in JavaScript. The tool aims to make the integration between React Native and other native apps as straightforward as possible. React Native simply becomes a third-party library that’s used in the native app and the React Native code then lives in what Walmart Labs calls an “Electrode Native MiniApp.”\\nTypically, developers who want to move their apps to React Native would have to either rewrite their app from the ground, build a quick and dirty integration that’ll cost them later, or build a new platform and tooling for integrating React Native into their apps. Walmart went with the last option.\\n'"
      ]
     },
     "execution_count": 10,
     "metadata": {},
     "output_type": "execute_result"
    }
   ],
   "source": [
    "s\n"
   ]
  },
  {
   "cell_type": "code",
   "execution_count": 11,
   "metadata": {
    "collapsed": true
   },
   "outputs": [],
   "source": [
    "st = tok(s)"
   ]
  },
  {
   "cell_type": "code",
   "execution_count": 12,
   "metadata": {},
   "outputs": [
    {
     "data": {
      "text/plain": [
       "['walmart',\n",
       " 'placing',\n",
       " 'big',\n",
       " 'bet',\n",
       " 'react',\n",
       " 'native',\n",
       " 'electrode',\n",
       " 'company',\n",
       " '’',\n",
       " 'walmart',\n",
       " 'labs',\n",
       " 'division',\n",
       " 'open',\n",
       " 'sourced',\n",
       " 'react-based',\n",
       " 'framework',\n",
       " 'powers',\n",
       " 'walmart.com',\n",
       " '’',\n",
       " 'frontend',\n",
       " 'today',\n",
       " 'group',\n",
       " 'also',\n",
       " 'launching',\n",
       " 'electrode',\n",
       " 'native',\n",
       " 'tool',\n",
       " 'bringing',\n",
       " 'react',\n",
       " 'native',\n",
       " 'existing',\n",
       " 'native',\n",
       " 'apps',\n",
       " 'ios',\n",
       " 'android',\n",
       " 'basics',\n",
       " 'idea',\n",
       " 'electrode',\n",
       " 'native',\n",
       " 'allows',\n",
       " 'large',\n",
       " 'companies',\n",
       " 'like',\n",
       " 'walmart',\n",
       " 'take',\n",
       " 'existing',\n",
       " 'apps',\n",
       " 'slowly',\n",
       " 'migrate',\n",
       " 'parts',\n",
       " 'code',\n",
       " 'react',\n",
       " 'native',\n",
       " 'facebook',\n",
       " '’',\n",
       " 'open',\n",
       " 'source',\n",
       " 'framework',\n",
       " 'building',\n",
       " 'native',\n",
       " 'apps',\n",
       " 'javascript',\n",
       " 'tool',\n",
       " 'aims',\n",
       " 'make',\n",
       " 'integration',\n",
       " 'react',\n",
       " 'native',\n",
       " 'native',\n",
       " 'apps',\n",
       " 'straightforward',\n",
       " 'possible',\n",
       " 'react',\n",
       " 'native',\n",
       " 'simply',\n",
       " 'becomes',\n",
       " 'third-party',\n",
       " 'library',\n",
       " '’',\n",
       " 'used',\n",
       " 'native',\n",
       " 'app',\n",
       " 'react',\n",
       " 'native',\n",
       " 'code',\n",
       " 'lives',\n",
       " 'walmart',\n",
       " 'labs',\n",
       " 'calls',\n",
       " '“',\n",
       " 'electrode',\n",
       " 'native',\n",
       " 'miniapp.',\n",
       " '”',\n",
       " 'typically',\n",
       " 'developers',\n",
       " 'want',\n",
       " 'move',\n",
       " 'apps',\n",
       " 'react',\n",
       " 'native',\n",
       " 'would',\n",
       " 'either',\n",
       " 'rewrite',\n",
       " 'app',\n",
       " 'ground',\n",
       " 'build',\n",
       " 'quick',\n",
       " 'dirty',\n",
       " 'integration',\n",
       " '’',\n",
       " 'cost',\n",
       " 'later',\n",
       " 'build',\n",
       " 'new',\n",
       " 'platform',\n",
       " 'tooling',\n",
       " 'integrating',\n",
       " 'react',\n",
       " 'native',\n",
       " 'apps',\n",
       " 'walmart',\n",
       " 'went',\n",
       " 'last',\n",
       " 'option']"
      ]
     },
     "execution_count": 12,
     "metadata": {},
     "output_type": "execute_result"
    }
   ],
   "source": [
    "st\n"
   ]
  },
  {
   "cell_type": "code",
   "execution_count": 13,
   "metadata": {},
   "outputs": [
    {
     "data": {
      "text/plain": [
       "[('https://www.theverge.com/2017/5/22/15676864/youtube-tv-update-airplay-apple-tv-google',\n",
       "  0.5719525218009949),\n",
       " ('https://thenextweb.com/microsoft/2017/05/11/microsoft-brings-fedora-suse-ubuntu-linux-windows-store/',\n",
       "  0.5398964881896973),\n",
       " ('https://thenextweb.com/dd/2017/03/14/facebooks-new-tool-helps-get-started-quickly-react-native-projects-os/',\n",
       "  0.5181444883346558),\n",
       " ('https://techcrunch.com/2017/04/17/developer-tools-startup-wrecker-has-been-acquired-by-oracle/',\n",
       "  0.5176803469657898),\n",
       " ('https://www.theverge.com/2017/4/18/15333108/paypal-android-pay-nfc-payments',\n",
       "  0.5176526308059692),\n",
       " ('https://www.theverge.com/2017/2/28/14765918/show-notes-amazon-web-services-appreciation-day',\n",
       "  0.5068202614784241),\n",
       " ('https://techcrunch.com/2017/02/26/lg-g6-mwc-live-stream/',\n",
       "  0.4981262981891632),\n",
       " ('https://www.theverge.com/2017/3/9/14874878/show-notes-google-vs-microsoft-vs-slack',\n",
       "  0.49757933616638184),\n",
       " ('https://thenextweb.com/google/2017/02/16/can-now-buy-stuff-google-home/',\n",
       "  0.4916636347770691),\n",
       " ('https://www.theverge.com/2017/7/17/15981842/samsung-pay-paypal-mobile-payment',\n",
       "  0.4914388656616211)]"
      ]
     },
     "execution_count": 13,
     "metadata": {},
     "output_type": "execute_result"
    }
   ],
   "source": [
    "model.docvecs.most_similar(positive=[model.infer_vector(st)])"
   ]
  },
  {
   "cell_type": "code",
   "execution_count": null,
   "metadata": {
    "collapsed": true
   },
   "outputs": [],
   "source": []
  }
 ],
 "metadata": {
  "kernelspec": {
   "display_name": "Python 3",
   "language": "python",
   "name": "python3"
  },
  "language_info": {
   "codemirror_mode": {
    "name": "ipython",
    "version": 3
   },
   "file_extension": ".py",
   "mimetype": "text/x-python",
   "name": "python",
   "nbconvert_exporter": "python",
   "pygments_lexer": "ipython3",
   "version": "3.6.2"
  }
 },
 "nbformat": 4,
 "nbformat_minor": 2
}
